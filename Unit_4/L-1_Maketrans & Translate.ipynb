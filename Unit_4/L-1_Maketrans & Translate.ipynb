{
 "cells": [
  {
   "cell_type": "markdown",
   "metadata": {},
   "source": [
    "# Maketrans & Traslate"
   ]
  },
  {
   "cell_type": "code",
   "execution_count": 11,
   "metadata": {},
   "outputs": [
    {
     "name": "stdout",
     "output_type": "stream",
     "text": [
      "{97: 49, 101: 50, 105: 51, 111: 52, 117: 53}\n",
      "Th3s 3s 1 f5nct34n\n"
     ]
    }
   ],
   "source": [
    "intab = \"aeiou\"\n",
    "outtab = \"12345\"\n",
    "my = \"This is a function\"\n",
    "transtab = my.maketrans(intab,outtab)\n",
    "print(transtab)\n",
    "print(my.translate(transtab))"
   ]
  },
  {
   "cell_type": "markdown",
   "metadata": {},
   "source": [
    "# ==> String module and its functions"
   ]
  },
  {
   "cell_type": "code",
   "execution_count": 5,
   "metadata": {},
   "outputs": [],
   "source": [
    "import string"
   ]
  },
  {
   "cell_type": "code",
   "execution_count": 6,
   "metadata": {},
   "outputs": [
    {
     "data": {
      "text/plain": [
       "'!\"#$%&\\'()*+,-./:;<=>?@[\\\\]^_`{|}~'"
      ]
     },
     "execution_count": 6,
     "metadata": {},
     "output_type": "execute_result"
    }
   ],
   "source": [
    "string.punctuation"
   ]
  },
  {
   "cell_type": "markdown",
   "metadata": {},
   "source": [
    "# Q. WAP code to remove all symbols(punctuations) from given string."
   ]
  },
  {
   "cell_type": "code",
   "execution_count": 8,
   "metadata": {},
   "outputs": [
    {
     "name": "stdout",
     "output_type": "stream",
     "text": [
      "Hi  What the weather is like \n"
     ]
    }
   ],
   "source": [
    "my = \"!Hi? , What? the wea[th]er is l!ike \"\n",
    "new = my.translate(str.maketrans(\"\",\"\",string.punctuation))\n",
    "print(new)"
   ]
  },
  {
   "cell_type": "markdown",
   "metadata": {},
   "source": [
    "# Q. WAP to fetch username from a given email address ."
   ]
  },
  {
   "cell_type": "code",
   "execution_count": 20,
   "metadata": {},
   "outputs": [
    {
     "name": "stdout",
     "output_type": "stream",
     "text": [
      "dev.panchal\n"
     ]
    }
   ],
   "source": [
    "email = \"dev.panchal@gmail.com\"\n",
    "print(my[0 : my.find(\"@\") : 1 ])"
   ]
  },
  {
   "cell_type": "markdown",
   "metadata": {},
   "source": [
    "# Q. WAP to remove a specific chr from  a str."
   ]
  },
  {
   "cell_type": "code",
   "execution_count": 25,
   "metadata": {},
   "outputs": [
    {
     "name": "stdout",
     "output_type": "stream",
     "text": [
      "ython rogramming\n"
     ]
    }
   ],
   "source": [
    "my = \"python programming\"\n",
    "new = my.translate(str.maketrans(\"\",\"\",\"pP\"))\n",
    "print(new)"
   ]
  },
  {
   "cell_type": "code",
   "execution_count": 29,
   "metadata": {},
   "outputs": [
    {
     "name": "stdout",
     "output_type": "stream",
     "text": [
      "ython rogramming\n"
     ]
    }
   ],
   "source": [
    "new=\"\"\n",
    "\n",
    "for i in my:\n",
    "    if i==\"p\":\n",
    "        new+=\"\"\n",
    "    else:\n",
    "        new+=i\n",
    "        \n",
    "print(new)"
   ]
  },
  {
   "cell_type": "markdown",
   "metadata": {},
   "source": [
    "# Q. WAP to calc. sum & avg of digit in str. "
   ]
  },
  {
   "cell_type": "code",
   "execution_count": 33,
   "metadata": {},
   "outputs": [
    {
     "name": "stdout",
     "output_type": "stream",
     "text": [
      "Sum ==> 6\n",
      "Avg ==> 2.0\n"
     ]
    }
   ],
   "source": [
    "my = \"python123\"\n",
    "sum = 0\n",
    "avg = 0\n",
    "noOfDigit = 0\n",
    "\n",
    "for i in my:\n",
    "    if i.isdigit():\n",
    "        noOfDigit+=1\n",
    "        sum+=int(i)\n",
    "    \n",
    "print(f\"Sum ==> {sum}\")\n",
    "print(f\"Avg ==> {sum/noOfDigit}\")"
   ]
  },
  {
   "cell_type": "markdown",
   "metadata": {},
   "source": [
    "# Q. WAP to check if str are balanced."
   ]
  },
  {
   "cell_type": "code",
   "execution_count": 39,
   "metadata": {},
   "outputs": [
    {
     "name": "stdout",
     "output_type": "stream",
     "text": [
      "Balanced\n"
     ]
    }
   ],
   "source": [
    "s1 = \"py\"\n",
    "s2 = \"python\"\n",
    "\n",
    "for i in s1:\n",
    "    if i not in s2:\n",
    "        print(\"Not Balanced\")\n",
    "        break\n",
    "else:\n",
    "    print(\"Balanced\")\n",
    "    "
   ]
  },
  {
   "cell_type": "markdown",
   "metadata": {},
   "source": [
    "# Q. WAP to capitialize 1st & last letter of every word in str."
   ]
  },
  {
   "cell_type": "code",
   "execution_count": 45,
   "metadata": {},
   "outputs": [
    {
     "name": "stdout",
     "output_type": "stream",
     "text": [
      "ThiS IS PythoN \n"
     ]
    }
   ],
   "source": [
    "my = \"this is python\"\n",
    "my = my.title()\n",
    "result= \"\" \n",
    "\n",
    "for word in my.split():\n",
    "    result+= word[:-1] + word[-1].upper()+\" \"\n",
    "else:\n",
    "    print(result)"
   ]
  },
  {
   "cell_type": "raw",
   "metadata": {},
   "source": []
  }
 ],
 "metadata": {
  "kernelspec": {
   "display_name": "Python 3",
   "language": "python",
   "name": "python3"
  },
  "language_info": {
   "codemirror_mode": {
    "name": "ipython",
    "version": 3
   },
   "file_extension": ".py",
   "mimetype": "text/x-python",
   "name": "python",
   "nbconvert_exporter": "python",
   "pygments_lexer": "ipython3",
   "version": "3.8.5"
  }
 },
 "nbformat": 4,
 "nbformat_minor": 4
}
