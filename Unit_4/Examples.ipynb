{
 "cells": [
  {
   "cell_type": "markdown",
   "metadata": {},
   "source": [
    "# Q330. Ceasor Cipher :"
   ]
  },
  {
   "cell_type": "code",
   "execution_count": 9,
   "metadata": {},
   "outputs": [
    {
     "name": "stdout",
     "output_type": "stream",
     "text": [
      "Input : xyz\n",
      "Shift : 3\n",
      "Output: abc\n"
     ]
    }
   ],
   "source": [
    "mytext = input(\"Input : \")\n",
    "shift = int(input(\"Shift : \"))\n",
    "new = \"\"\n",
    "\n",
    "for i in mytext:\n",
    "    start = ord('a') if i.islower() else ord('A')\n",
    "    new += chr((ord(i) - start + shift) % 26 + start) \n",
    "\n",
    "print(\"Output:\", new)"
   ]
  },
  {
   "cell_type": "markdown",
   "metadata": {},
   "source": [
    "# Q328. "
   ]
  },
  {
   "cell_type": "code",
   "execution_count": 10,
   "metadata": {},
   "outputs": [
    {
     "name": "stdout",
     "output_type": "stream",
     "text": [
      "Input : Dev Panchal\n",
      "Output: dEV pANCHAL\n"
     ]
    }
   ],
   "source": [
    "mytext = input(\"Input : \")\n",
    "new = \"\"\n",
    "\n",
    "for i in mytext:\n",
    "    if i.isupper():\n",
    "        new += i.lower()\n",
    "    else:\n",
    "        new += i.upper()\n",
    "        \n",
    "print(\"Output:\", new)"
   ]
  },
  {
   "cell_type": "markdown",
   "metadata": {},
   "source": [
    "# Q327."
   ]
  },
  {
   "cell_type": "code",
   "execution_count": 18,
   "metadata": {},
   "outputs": [
    {
     "name": "stdout",
     "output_type": "stream",
     "text": [
      "Input : Rama#fo9c\n",
      "Atleast 1 symbol\n"
     ]
    }
   ],
   "source": [
    "def main():\n",
    "    mypass = input(\"Input : \")\n",
    "    if isvalid(mypass):\n",
    "        print(\"valid\")\n",
    "    else:\n",
    "        print(\"not valid\")\n",
    "\n",
    "def isvalid(mypass):\n",
    "    if len(mypass) <= 8:\n",
    "        return False\n",
    "\n",
    "    l,u,p,d = False\n",
    "\n",
    "    for i in mypass:\n",
    "        if i.islower():\n",
    "            l = True\n",
    "        if i.isupper():\n",
    "            u = True\n",
    "        if i.isdigit():\n",
    "            d = True\n",
    "\n",
    "\n",
    "main()\n"
   ]
  },
  {
   "cell_type": "markdown",
   "metadata": {},
   "source": [
    "# Q325."
   ]
  },
  {
   "cell_type": "code",
   "execution_count": 21,
   "metadata": {},
   "outputs": [
    {
     "name": "stdout",
     "output_type": "stream",
     "text": [
      "Input : 12345\n",
      "Shift : 3\n",
      "45123\n"
     ]
    }
   ],
   "source": [
    "mytext = input(\"Input : \")\n",
    "shift = int(input(\"Shift : \"))\n",
    "new = \"\"\n",
    "\n",
    "if shift<= len(mytext):\n",
    "    new += mytext[shift::] + mytext[0:shift:]\n",
    "else:\n",
    "    new = mytext[::-1]\n",
    "\n",
    "print(new)\n",
    "lis\"Dev\""
   ]
  },
  {
   "cell_type": "code",
   "execution_count": 23,
   "metadata": {},
   "outputs": [],
   "source": []
  }
 ],
 "metadata": {
  "kernelspec": {
   "display_name": "Python 3",
   "language": "python",
   "name": "python3"
  },
  "language_info": {
   "codemirror_mode": {
    "name": "ipython",
    "version": 3
   },
   "file_extension": ".py",
   "mimetype": "text/x-python",
   "name": "python",
   "nbconvert_exporter": "python",
   "pygments_lexer": "ipython3",
   "version": "3.8.5"
  }
 },
 "nbformat": 4,
 "nbformat_minor": 4
}
