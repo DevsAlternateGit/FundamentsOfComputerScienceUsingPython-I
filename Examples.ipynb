{
 "cells": [
  {
   "cell_type": "markdown",
   "metadata": {},
   "source": [
    "<h3> WAP to print tribonacci series </h3>\n"
   ]
  },
  {
   "cell_type": "code",
   "execution_count": 6,
   "metadata": {},
   "outputs": [
    {
     "name": "stdout",
     "output_type": "stream",
     "text": [
      "0 0 1 1 2 4 7 13 24 44 81 149 274 504 927 1705 3136 5768 "
     ]
    }
   ],
   "source": [
    "a = 0\n",
    "b = 0\n",
    "c = 1\n",
    "sum = 0\n",
    "print(a,end = \" \")\n",
    "print(b,end = \" \")\n",
    "print(c,end = \" \")\n",
    "for i in range(15):\n",
    "    sum = a+b+c\n",
    "    print(sum,end = \" \")\n",
    "    a = b\n",
    "    b = c\n",
    "    c = sum\n",
    "    "
   ]
  },
  {
   "cell_type": "markdown",
   "metadata": {},
   "source": [
    "<h3> WAP to enter number and stop when use enter STOP after this print min. even, max. even, avg. of even and same for odd </h3>\n",
    "    "
   ]
  },
  {
   "cell_type": "code",
   "execution_count": 12,
   "metadata": {},
   "outputs": [
    {
     "name": "stdout",
     "output_type": "stream",
     "text": [
      "Enter a Number: 1\n",
      "Enter a Number: 2\n",
      "Enter a Number: 3\n",
      "Enter a Number: 4\n",
      "Enter a Number: 5\n",
      "Enter a Number: STOP\n",
      "Even MAX :  4\n",
      "0\n",
      "3.0\n"
     ]
    }
   ],
   "source": [
    "eve_max = 0\n",
    "eve_min = 0\n",
    "eve_sum = 0\n",
    "eve_no= 0\n",
    "eve_avg = 0\n",
    "\n",
    "odd_max = 0\n",
    "odd_min = 0\n",
    "odd_sum = 0\n",
    "odd_no = 0\n",
    "odd_avg = 0\n",
    "\n",
    "while True:\n",
    "    ip = input(\"Enter a Number: \")\n",
    "    if ip == \"STOP\":\n",
    "        break\n",
    "    ip=int(ip)\n",
    "    \n",
    "    if ip%2==0:\n",
    "        eve_sum+=ip\n",
    "        eve_no+=1\n",
    "        if ip>eve_max:\n",
    "            eve_max = ip\n",
    "        if ip<eve_min or ip ==0:\n",
    "            eve_min = ip\n",
    "    else:\n",
    "        odd_sum+=ip\n",
    "        odd_no+=1\n",
    "        if ip>odd_max:\n",
    "            odd_max = ip\n",
    "        if ip<odd_min or ip ==0:\n",
    "            odd_min = ip\n",
    "print(\"Even MAX : \", eve_max)\n",
    "print(eve_min)\n",
    "print(eve_sum/eve_no)"
   ]
  },
  {
   "cell_type": "markdown",
   "metadata": {},
   "source": [
    "<h3> WAP to ask user enter 10 scores to do following:\n",
    "        <ol> \n",
    "            <li> Print highest and lowest scores</li>\n",
    "            <li> Avg.</li>\n",
    "            <li> Print 2 largest score</li>\n",
    "            <li> warning for over 100 scores</li>\n",
    "            <li> print 2 lowest score and avg</li>\n",
    "        </ol>\n",
    "</h3>\n"
   ]
  },
  {
   "cell_type": "code",
   "execution_count": 18,
   "metadata": {},
   "outputs": [
    {
     "name": "stdout",
     "output_type": "stream",
     "text": [
      "Enter Score : 1\n",
      "Enter Score : 2\n",
      "Enter Score : 3\n",
      "Enter Score : 4\n",
      "Enter Score : 5\n",
      "Enter Score : 6\n",
      "Enter Score : 7\n",
      "Enter Score : 8\n",
      "Enter Score : 9\n",
      "9\n",
      "1\n",
      "4.5\n"
     ]
    }
   ],
   "source": [
    "high = 0\n",
    "low = None\n",
    "sum = 0\n",
    "sec_high =0\n",
    "\n",
    "for i in range(9):\n",
    "    ip = int(input(\"Enter Score : \"))\n",
    "    if ip>100:\n",
    "        break\n",
    "    if ip>high:\n",
    "        high = ip\n",
    "    if low==None or ip<low:\n",
    "        low = ip\n",
    "    sum+=ip\n",
    "    if \n",
    "else:\n",
    "    print(high)\n",
    "    print(low)\n",
    "    print(sum/10)\n",
    "    \n",
    "    \n",
    "        "
   ]
  },
  {
   "cell_type": "markdown",
   "metadata": {},
   "source": [
    "<h3> WAP to Disarium num</h3>\n"
   ]
  },
  {
   "cell_type": "code",
   "execution_count": null,
   "metadata": {},
   "outputs": [],
   "source": []
  }
 ],
 "metadata": {
  "kernelspec": {
   "display_name": "Python 3",
   "language": "python",
   "name": "python3"
  },
  "language_info": {
   "codemirror_mode": {
    "name": "ipython",
    "version": 3
   },
   "file_extension": ".py",
   "mimetype": "text/x-python",
   "name": "python",
   "nbconvert_exporter": "python",
   "pygments_lexer": "ipython3",
   "version": "3.8.5"
  }
 },
 "nbformat": 4,
 "nbformat_minor": 4
}
