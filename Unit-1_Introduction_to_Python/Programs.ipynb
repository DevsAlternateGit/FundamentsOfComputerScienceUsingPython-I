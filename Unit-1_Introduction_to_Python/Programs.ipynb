{
 "cells": [
  {
   "cell_type": "markdown",
   "metadata": {},
   "source": [
    "# WAP to find area of triangle."
   ]
  },
  {
   "cell_type": "code",
   "execution_count": null,
   "metadata": {},
   "outputs": [],
   "source": [
    "side_a = float(input(\"Enter side a: \"))\n",
    "side_b = float(input(\"Enter side b: \"))\n",
    "side_c = float(input(\"Enter side c: \"))\n",
    "\n",
    "semiperimeter = (side_a + side_b + side_c) / 2\n",
    "\n",
    "area = (semiperimeter * (semiperimeter - side_a) * (semiperimeter - side_b) * (semiperimeter - side_c)) ** (1/2)\n",
    "\n",
    "print(f\"Area: {area:.2f}\")\n"
   ]
  },
  {
   "cell_type": "markdown",
   "metadata": {},
   "source": [
    "# WAP to calculate surface , area and volume of cylinder given hieght and radius by user\n"
   ]
  },
  {
   "cell_type": "code",
   "execution_count": null,
   "metadata": {},
   "outputs": [],
   "source": [
    "hieght = float(input(\"Enter hieght: \"))\n",
    "radius = float(input(\"Enter radius: \"))\n",
    "\n",
    "area = 2 * 3.14* radius * hieght\n",
    "volume = 3.14 * (radius**2) * hieght\n",
    "\n",
    "print(f\"Area: {area:.2f} volume: {volume:.2f} \")"
   ]
  },
  {
   "cell_type": "markdown",
   "metadata": {},
   "source": [
    "# WAP to convert days to year, month and days.\n",
    "\n"
   ]
  },
  {
   "cell_type": "code",
   "execution_count": 3,
   "metadata": {},
   "outputs": [
    {
     "name": "stdout",
     "output_type": "stream",
     "text": [
      "Enter Days:390\n",
      " 1 years 0 months 25 days\n"
     ]
    }
   ],
   "source": [
    "day = int(input(\"Enter Days:\"))\n",
    "\n",
    "year = day//365\n",
    "r_day = day%365\n",
    "\n",
    "months = r_day//30\n",
    "r_day = r_day%30\n",
    "\n",
    "print(f\" {year} years {months} months {r_day} days\")"
   ]
  },
  {
   "cell_type": "markdown",
   "metadata": {},
   "source": [
    "# WAP sec to day, hr, min"
   ]
  },
  {
   "cell_type": "code",
   "execution_count": 4,
   "metadata": {},
   "outputs": [
    {
     "name": "stdout",
     "output_type": "stream",
     "text": [
      "Enter seconds: 13658\n",
      "0 days, 3 hours, 47 minutes, 38 seconds\n"
     ]
    }
   ],
   "source": [
    "# Get input from the user\n",
    "seconds = int(input(\"Enter seconds: \"))\n",
    "\n",
    "# Calculate days\n",
    "days = seconds // (24 * 3600)\n",
    "remaining_seconds = seconds % (24 * 3600)\n",
    "\n",
    "# Calculate hours\n",
    "hours = remaining_seconds // 3600\n",
    "remaining_seconds %= 3600\n",
    "\n",
    "# Calculate minutes\n",
    "minutes = remaining_seconds // 60\n",
    "remaining_seconds %= 60\n",
    "\n",
    "# Remaining seconds\n",
    "remaining_seconds = remaining_seconds\n",
    "\n",
    "# Print the result\n",
    "print(f\"{days} days, {hours} hours, {minutes} minutes, {remaining_seconds} seconds\")\n"
   ]
  },
  {
   "cell_type": "code",
   "execution_count": null,
   "metadata": {},
   "outputs": [],
   "source": []
  }
 ],
 "metadata": {
  "kernelspec": {
   "display_name": "Python 3",
   "language": "python",
   "name": "python3"
  },
  "language_info": {
   "codemirror_mode": {
    "name": "ipython",
    "version": 3
   },
   "file_extension": ".py",
   "mimetype": "text/x-python",
   "name": "python",
   "nbconvert_exporter": "python",
   "pygments_lexer": "ipython3",
   "version": "3.8.5"
  }
 },
 "nbformat": 4,
 "nbformat_minor": 4
}
