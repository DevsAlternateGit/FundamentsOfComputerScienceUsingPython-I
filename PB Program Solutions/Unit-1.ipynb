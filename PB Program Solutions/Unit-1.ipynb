{
 "cells": [
  {
   "cell_type": "markdown",
   "id": "a7239327",
   "metadata": {},
   "source": [
    "# UNIT - 1 Python Programs Solution"
   ]
  },
  {
   "cell_type": "markdown",
   "id": "91af305b",
   "metadata": {},
   "source": [
    "# Q54. Program to add two numbers with user input."
   ]
  },
  {
   "cell_type": "code",
   "execution_count": 1,
   "id": "795ccc79",
   "metadata": {},
   "outputs": [
    {
     "name": "stdout",
     "output_type": "stream",
     "text": [
      "Enter the number:  20\n",
      "Enter the number:  25\n"
     ]
    },
    {
     "name": "stdout",
     "output_type": "stream",
     "text": [
      "Sum of two numbers:  45\n"
     ]
    }
   ],
   "source": [
    "num1 = int(input(\"Enter the number: \"))\n",
    "num2 = int(input(\"Enter the number: \"))\n",
    "\n",
    "print(\"Sum of two numbers: \", num1 + num2)"
   ]
  },
  {
   "cell_type": "markdown",
   "id": "2af63eed-1423-486b-a852-21e888b98ac3",
   "metadata": {},
   "source": [
    "# Q55. Python Program to find the area of circle."
   ]
  },
  {
   "cell_type": "code",
   "execution_count": 2,
   "id": "2a5153be-9002-4df5-b722-fa4c6013d207",
   "metadata": {},
   "outputs": [
    {
     "name": "stdout",
     "output_type": "stream",
     "text": [
      "Enter the radius:  5\n"
     ]
    },
    {
     "name": "stdout",
     "output_type": "stream",
     "text": [
      "The area ao circle with radius 5 is :  78.5\n"
     ]
    }
   ],
   "source": [
    "radius = int(input(\"Enter the radius: \"))\n",
    "\n",
    "area = 3.14 * radius ** 2\n",
    "print(f\"The area ao circle with radius {radius} is : \",area)\n"
   ]
  },
  {
   "cell_type": "markdown",
   "id": "07852243",
   "metadata": {},
   "source": [
    "# Q56. Python Program to find the area of triangle."
   ]
  },
  {
   "cell_type": "code",
   "execution_count": 3,
   "id": "b25d8074-d712-4daa-a496-fcb217217ebb",
   "metadata": {},
   "outputs": [
    {
     "name": "stdin",
     "output_type": "stream",
     "text": [
      "Enter first side:  5\n",
      "Enter second side:  5\n",
      "Enter third side:  8\n"
     ]
    },
    {
     "name": "stdout",
     "output_type": "stream",
     "text": [
      "The area of the triangle is 12.00\n"
     ]
    }
   ],
   "source": [
    "a = float(input('Enter first side: '))\n",
    "b = float(input('Enter second side: '))\n",
    "c = float(input('Enter third side: '))\n",
    "\n",
    "# calculate the semi-perimeter\n",
    "s = (a + b + c) / 2\n",
    "\n",
    "# calculate the area\n",
    "area = (s*(s-a)*(s-b)*(s-c)) ** 0.5\n",
    "print('The area of the triangle is %0.2f' %area)"
   ]
  },
  {
   "cell_type": "markdown",
   "id": "5afa0173",
   "metadata": {},
   "source": [
    "# Q57. Python Program to find the area of trapezoid."
   ]
  },
  {
   "cell_type": "code",
   "execution_count": 4,
   "id": "5ec13844",
   "metadata": {},
   "outputs": [
    {
     "name": "stdin",
     "output_type": "stream",
     "text": [
      "Enter first base of trapezoid:  2\n",
      "Enter second base of trapezoid:  2\n",
      "Enter hieght:  4\n"
     ]
    },
    {
     "name": "stdout",
     "output_type": "stream",
     "text": [
      "The area of the triangle is 8.00\n"
     ]
    }
   ],
   "source": [
    "base1 = float(input('Enter first base of trapezoid: '))\n",
    "base2 = float(input('Enter second base of trapezoid: '))\n",
    "hieght = float(input('Enter hieght: '))\n",
    "\n",
    "area = 0.5 * (base1 + base2) * hieght\n",
    "\n",
    "print('The area of the triangle is %0.2f' %area)"
   ]
  },
  {
   "cell_type": "markdown",
   "id": "ad7394a4-5725-4e2b-9b75-345290b01b9f",
   "metadata": {},
   "source": [
    "# Q58. Write a Python program to calculate surface volume and area of a cylinder.\n"
   ]
  },
  {
   "cell_type": "code",
   "execution_count": 9,
   "id": "37300c6c-be56-459d-8831-db2d6dfb04a8",
   "metadata": {},
   "outputs": [
    {
     "name": "stdin",
     "output_type": "stream",
     "text": [
      "Height of cylinder:  7\n",
      "Radius of cylinder:  5\n"
     ]
    },
    {
     "name": "stdout",
     "output_type": "stream",
     "text": [
      "Volume is:  549.5\n",
      "Surface Area is:  376.8\n"
     ]
    }
   ],
   "source": [
    "height = float(input('Height of cylinder: '))\n",
    "radius = float(input('Radius of cylinder: '))\n",
    "volume = 3.14 * radius * radius * height\n",
    "sur_area = ((2*3.14*radius) * height) + ((3.14*radius**2)*2)\n",
    "print(\"Volume is: \", volume)\n",
    "print(\"Surface Area is: \", sur_area)"
   ]
  },
  {
   "cell_type": "markdown",
   "id": "f29ff975-e7a2-4527-ab9f-0a066dcaf27e",
   "metadata": {},
   "source": [
    "# Q59.  Write a Python program to convert Fahrenheit to Celsius and vice versa."
   ]
  },
  {
   "cell_type": "code",
   "execution_count": 10,
   "id": "153b03b1-9039-4135-a2b4-64f4f5d61935",
   "metadata": {},
   "outputs": [
    {
     "name": "stdin",
     "output_type": "stream",
     "text": [
      "Enter Celsius:  45\n"
     ]
    },
    {
     "name": "stdout",
     "output_type": "stream",
     "text": [
      "Fahrenheit  113.0\n"
     ]
    },
    {
     "name": "stdin",
     "output_type": "stream",
     "text": [
      "Enter Fahrenheit:  113\n"
     ]
    },
    {
     "name": "stdout",
     "output_type": "stream",
     "text": [
      "Celsius  45.0\n"
     ]
    }
   ],
   "source": [
    "#input celsius\n",
    "celsius = float(input(\"Enter Celsius: \"))\n",
    "\n",
    "#calculate fahrenheit using the formula\n",
    "fahrenheit = (9/5)*celsius + 32\n",
    "print(\"Fahrenheit \",fahrenheit)\n",
    "\n",
    "#input fahrenheit\n",
    "fahrenheit = float(input(\"Enter Fahrenheit: \"))\n",
    "\n",
    "celsius = (5/9)*(fahrenheit - 32)\n",
    "print(\"Celsius \",celsius)"
   ]
  },
  {
   "cell_type": "markdown",
   "id": "0d6a828f-c0d6-470e-ac61-ba936da32456",
   "metadata": {},
   "source": [
    "# Q60. Calculator program"
   ]
  },
  {
   "cell_type": "code",
   "execution_count": 11,
   "id": "33ca06d4-8fdc-484e-a63d-ad76b9ed1ee6",
   "metadata": {},
   "outputs": [
    {
     "name": "stdin",
     "output_type": "stream",
     "text": [
      "Enter your first number:  5\n",
      "Enter your second number:  5\n"
     ]
    },
    {
     "name": "stdout",
     "output_type": "stream",
     "text": [
      "20 + 25 =  10\n",
      "20 - 25 =  0\n",
      "20 * 25 =  25\n",
      "20 / 25 =  1.0\n"
     ]
    }
   ],
   "source": [
    "num_1 = int(input('Enter your first number: '))\n",
    "num_2 = int(input('Enter your second number: '))\n",
    " \n",
    "# Addition\n",
    "print(f'{num1} + {num2} = ', end = \" \" )\n",
    "print(num_1 + num_2)\n",
    " \n",
    "# Subtraction\n",
    "print(f'{num1} - {num2} = ', end = \" \" )\n",
    "print(num_1 - num_2)\n",
    " \n",
    "# Multiplication\n",
    "print(f'{num1} * {num2} = ', end = \" \" )\n",
    "print(num_1 * num_2)\n",
    " \n",
    "# Division\n",
    "print(f'{num1} / {num2} = ',end = \" \")\n",
    "print(num_1 / num_2)"
   ]
  },
  {
   "cell_type": "markdown",
   "id": "dcb3bd7c-5e84-4b1d-a721-1bb707dc8d0e",
   "metadata": {},
   "source": [
    "# Q61. Python program to convert given number of days to years, months and days."
   ]
  },
  {
   "cell_type": "code",
   "execution_count": 14,
   "id": "f6897dc1-a88d-4bd9-acad-e98dfdaddfb6",
   "metadata": {},
   "outputs": [
    {
     "name": "stdin",
     "output_type": "stream",
     "text": [
      "Enter number of days:  398\n"
     ]
    },
    {
     "name": "stdout",
     "output_type": "stream",
     "text": [
      "1 Years 1 Months 3 Days\n"
     ]
    }
   ],
   "source": [
    "# Reading number of days from user\n",
    "number_of_days = int(input(\"Enter number of days: \"))\n",
    "\n",
    "# Calculating years\n",
    "years = number_of_days // 365\n",
    "\n",
    "# Calculating months\n",
    "months = (number_of_days - years *365) // 30\n",
    "\n",
    "# Calculating days\n",
    "days = (number_of_days - years * 365 - months*30)\n",
    "\n",
    "# Displaying results\n",
    "print(f\"{years} Years {months} Months {days} Days\")"
   ]
  },
  {
   "cell_type": "markdown",
   "id": "90eb1145-9750-49c8-a715-a6957f762681",
   "metadata": {},
   "source": [
    "# Q62. Python Program to Convert hours into  minutes and seconds"
   ]
  },
  {
   "cell_type": "code",
   "execution_count": 24,
   "id": "18b6bae7-8396-4416-961d-c53f4def24e0",
   "metadata": {},
   "outputs": [
    {
     "name": "stdin",
     "output_type": "stream",
     "text": [
      "Input time in hours:  48\n"
     ]
    },
    {
     "name": "stdout",
     "output_type": "stream",
     "text": [
      "Minutes --> 2880.0 , Seconds --> 172800.0\n"
     ]
    }
   ],
   "source": [
    "time = float(input(\"Input time in hours: \"))\n",
    "minutes = time * 60\n",
    "seconds = time * 3600\n",
    "print(f\"Minutes --> {minutes} , Seconds --> {seconds}\")"
   ]
  },
  {
   "cell_type": "markdown",
   "id": "7d9d37b8-94cb-4b41-9856-0e35f5ba33d1",
   "metadata": {},
   "source": [
    "# Q63. Program to find an integer exponent x such that a^x = n:"
   ]
  },
  {
   "cell_type": "code",
   "execution_count": 28,
   "id": "c2cc1265-4494-459b-9c5d-5060a32e0e69",
   "metadata": {},
   "outputs": [
    {
     "name": "stdout",
     "output_type": "stream",
     "text": [
      "For a = 2 and n = 1024, the exponent x is: 10\n",
      "For a = 3 and n = 81, the exponent x is: 4\n"
     ]
    }
   ],
   "source": [
    "def find_exponent(a, n):\n",
    "    x = 0\n",
    "    while a ** x != n:\n",
    "        x += 1\n",
    "    return x\n",
    "\n",
    "a1, n1 = 2, 1024\n",
    "a2, n2 = 3, 81\n",
    "\n",
    "print(f\"For a = {a1} and n = {n1}, the exponent x is: {find_exponent(a1, n1)}\")\n",
    "print(f\"For a = {a2} and n = {n2}, the exponent x is: {find_exponent(a2, n2)}\")"
   ]
  },
  {
   "cell_type": "code",
   "execution_count": null,
   "id": "31660b30-1f02-4a7c-94fa-198e95852f1c",
   "metadata": {},
   "outputs": [],
   "source": []
  }
 ],
 "metadata": {
  "kernelspec": {
   "display_name": "Python 3 (ipykernel)",
   "language": "python",
   "name": "python3"
  },
  "language_info": {
   "codemirror_mode": {
    "name": "ipython",
    "version": 3
   },
   "file_extension": ".py",
   "mimetype": "text/x-python",
   "name": "python",
   "nbconvert_exporter": "python",
   "pygments_lexer": "ipython3",
   "version": "3.12.7"
  }
 },
 "nbformat": 4,
 "nbformat_minor": 5
}
